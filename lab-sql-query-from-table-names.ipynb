{
 "cells": [
  {
   "cell_type": "markdown",
   "id": "00a57394-53dd-47cd-a5e7-6e7122bbb0f6",
   "metadata": {},
   "source": [
    "# SQL query from table names"
   ]
  },
  {
   "cell_type": "markdown",
   "id": "86bc2813-763c-49f2-9f5d-e1f87a20556f",
   "metadata": {
    "id": "86bc2813-763c-49f2-9f5d-e1f87a20556f"
   },
   "source": [
    "In This notebook we are going to test if using just the name of the table, and a shord definition of its contect we can use a model like GTP3.5-Turbo to select which tables are necessary to create a SQL Order to answer the user petition."
   ]
  },
  {
   "cell_type": "code",
   "execution_count": 2,
   "id": "7fbbdf5b-4d7f-4496-8f40-9d15ea46d023",
   "metadata": {
    "id": "7fbbdf5b-4d7f-4496-8f40-9d15ea46d023"
   },
   "outputs": [],
   "source": [
    "from openai import OpenAI\n",
    "import os\n",
    "from dotenv import load_dotenv, find_dotenv\n",
    "_ = load_dotenv(find_dotenv())\n",
    "\n",
    "OPENAI_API_KEY  = os.getenv('api_key')"
   ]
  },
  {
   "cell_type": "code",
   "execution_count": 3,
   "id": "e480bbfb-9a80-4ea6-b792-067e63ae3148",
   "metadata": {
    "id": "e480bbfb-9a80-4ea6-b792-067e63ae3148"
   },
   "outputs": [],
   "source": [
    "#Functio to call the model.\n",
    "def return_OAI(user_message):\n",
    "    client = OpenAI(\n",
    "    # This is the default and can be omitted\n",
    "    api_key=OPENAI_API_KEY,\n",
    ")\n",
    "    context = []\n",
    "    context.append({'role':'system', \"content\": user_message})\n",
    "\n",
    "    response = client.chat.completions.create(\n",
    "            model=\"gpt-3.5-turbo\",\n",
    "            messages=context,\n",
    "            temperature=0,\n",
    "        )\n",
    "\n",
    "    return (response.choices[0].message.content)"
   ]
  },
  {
   "cell_type": "code",
   "execution_count": 35,
   "id": "6d5d2bdc-d822-4ed8-815e-b3f223730f15",
   "metadata": {
    "id": "6d5d2bdc-d822-4ed8-815e-b3f223730f15",
    "outputId": "61068bf0-41e3-40d9-b453-b76da5b0f086"
   },
   "outputs": [
    {
     "name": "stdout",
     "output_type": "stream",
     "text": [
      "          au_id        au_lname     au_fname         phone  \\\n",
      "0   172-32-1176           White      Johnson  408 496-7223   \n",
      "1   213-46-8915           Green     Marjorie  415 986-7020   \n",
      "2   238-95-7766          Carson       Cheryl  415 548-7723   \n",
      "3   267-41-2394         O'Leary      Michael  408 286-2428   \n",
      "4   274-80-9391        Straight         Dean  415 834-2919   \n",
      "5   341-22-1782           Smith      Meander  913 843-0462   \n",
      "6   409-56-7008          Bennet      Abraham  415 658-9932   \n",
      "7   427-17-2319            Dull          Ann  415 836-7128   \n",
      "8   472-27-2349      Gringlesby         Burt  707 938-6445   \n",
      "9   486-29-1786        Locksley     Charlene  415 585-4620   \n",
      "10  527-72-3246          Greene  Morningstar  615 297-2723   \n",
      "11  648-92-1872  Blotchet-Halls     Reginald  503 745-6402   \n",
      "12  672-71-3249        Yokomoto        Akiko  415 935-4228   \n",
      "13  712-45-1867    del Castillo        Innes  615 996-8275   \n",
      "14  722-51-5454        DeFrance       Michel  219 547-9982   \n",
      "15  724-08-9931        Stringer         Dirk  415 843-2991   \n",
      "16  724-80-9391      MacFeather      Stearns  415 354-7128   \n",
      "17  756-30-7391          Karsen        Livia  415 534-9219   \n",
      "18  807-91-6654        Panteley       Sylvia  301 946-8853   \n",
      "19  846-92-7186          Hunter       Sheryl  415 836-7128   \n",
      "20  893-72-1158        McBadden      Heather  707 448-4982   \n",
      "21  899-46-2035          Ringer         Anne  801 826-0752   \n",
      "22  998-72-3567          Ringer       Albert  801 826-0752   \n",
      "\n",
      "                 address            city state    zip  contract  \n",
      "0        10932 Bigge Rd.      Menlo Park    CA  94025         1  \n",
      "1      309 63rd St. #411         Oakland    CA  94618         1  \n",
      "2         589 Darwin Ln.        Berkeley    CA  94705         1  \n",
      "3   22 Cleveland Av. #14        San Jose    CA  95128         1  \n",
      "4       5420 College Av.         Oakland    CA  94609         1  \n",
      "5     10 Mississippi Dr.        Lawrence    KS  66044         0  \n",
      "6       6223 Bateman St.        Berkeley    CA  94705         1  \n",
      "7        3410 Blonde St.       Palo Alto    CA  94301         1  \n",
      "8             PO Box 792          Covelo    CA  95428         1  \n",
      "9        18 Broadway Av.   San Francisco    CA  94130         1  \n",
      "10  22 Graybar House Rd.       Nashville    TN  37215         0  \n",
      "11      55 Hillsdale Bl.       Corvallis    OR  97330         1  \n",
      "12          3 Silver Ct.    Walnut Creek    CA  94595         1  \n",
      "13     2286 Cram Pl. #86       Ann Arbor    MI  48105         1  \n",
      "14         3 Balding Pl.            Gary    IN  46403         1  \n",
      "15    5420 Telegraph Av.         Oakland    CA  94609         0  \n",
      "16        44 Upland Hts.         Oakland    CA  94612         1  \n",
      "17      5720 McAuley St.         Oakland    CA  94609         1  \n",
      "18    1956 Arlington Pl.       Rockville    MD  20853         1  \n",
      "19       3410 Blonde St.       Palo Alto    CA  94301         1  \n",
      "20            301 Putnam       Vacaville    CA  95688         0  \n",
      "21        67 Seventh Av.  Salt Lake City    UT  84152         1  \n",
      "22        67 Seventh Av.  Salt Lake City    UT  84152         1      pub_id               pub_name          city state  country\n",
      "0     736         New Moon Books        Boston    MA      USA\n",
      "1     877       Binnet & Hardley    Washington    DC      USA\n",
      "2    1389   Algodata Infosystems      Berkeley    CA      USA\n",
      "3    1622  Five Lakes Publishing       Chicago    IL      USA\n",
      "4    1756      Ramona Publishers        Dallas    TX      USA\n",
      "5    9901                  GGG&G  TcKBbmNoZW4=   NaN  Germany\n",
      "6    9952         Scootney Books      New York    NY      USA\n",
      "7    9999     Lucerne Publishing         Paris   NaN   France\n"
     ]
    }
   ],
   "source": [
    "# Definition of the tables.\n",
    "import pandas as pd\n",
    "\n",
    "# Table and definitions sample\n",
    "data = {'table': [\"authors\",\"publsihers\"],  # ENTER A TABLE COLUMNS HERE\n",
    "        'definition': [\"authors names\",\"puiblisher\"]}  # ENTER A TABLE DEFINITIONS HERE\n",
    "\n",
    "# Load the CSV file into a DataFrame\n",
    "authors_df = pd.read_csv(\"authors.csv\",)\n",
    "publisher_df = pd.read_csv(\"publishers.csv\",)\n",
    "print(authors_df,publisher_df)"
   ]
  },
  {
   "cell_type": "code",
   "execution_count": 50,
   "id": "d52f90ba",
   "metadata": {},
   "outputs": [],
   "source": [
    "# Combine information from authors_df\n",
    "authors_text = '\\n'.join([\n",
    "    f\"{row['au_id']}, {row['au_lname']}, {row['au_fname']}\" \n",
    "    for index, row in authors_df.iterrows()\n",
    "])\n",
    "\n",
    "# Combine information from publishers_df\n",
    "publishers_text = '\\n'.join([\n",
    "    f\"{row['pub_id']}, {row['pub_name']}, {row['city']}\" \n",
    "    for index, row in publisher_df.iterrows()\n",
    "])\n",
    "\n",
    "# Combine both into text_tables\n",
    "text_tables = f\"Authors:\\n{authors_text}\\n\\nPublishers:\\n{publishers_text}\""
   ]
  },
  {
   "cell_type": "code",
   "execution_count": 51,
   "id": "fe03ac25-8d02-4cd1-99a1-be4220c6fd2d",
   "metadata": {
    "id": "fe03ac25-8d02-4cd1-99a1-be4220c6fd2d",
    "outputId": "c1f3aab1-5f26-48fe-fcf9-3780120f5aad"
   },
   "outputs": [
    {
     "name": "stdout",
     "output_type": "stream",
     "text": [
      "Authors:\n",
      "172-32-1176, White, Johnson\n",
      "213-46-8915, Green, Marjorie\n",
      "238-95-7766, Carson, Cheryl\n",
      "267-41-2394, O'Leary, Michael\n",
      "274-80-9391, Straight, Dean\n",
      "341-22-1782, Smith, Meander\n",
      "409-56-7008, Bennet, Abraham\n",
      "427-17-2319, Dull, Ann\n",
      "472-27-2349, Gringlesby, Burt\n",
      "486-29-1786, Locksley, Charlene\n",
      "527-72-3246, Greene, Morningstar\n",
      "648-92-1872, Blotchet-Halls, Reginald\n",
      "672-71-3249, Yokomoto, Akiko\n",
      "712-45-1867, del Castillo, Innes\n",
      "722-51-5454, DeFrance, Michel\n",
      "724-08-9931, Stringer, Dirk\n",
      "724-80-9391, MacFeather, Stearns\n",
      "756-30-7391, Karsen, Livia\n",
      "807-91-6654, Panteley, Sylvia\n",
      "846-92-7186, Hunter, Sheryl\n",
      "893-72-1158, McBadden, Heather\n",
      "899-46-2035, Ringer, Anne\n",
      "998-72-3567, Ringer, Albert\n",
      "\n",
      "Publishers:\n",
      "736, New Moon Books, Boston\n",
      "877, Binnet & Hardley, Washington\n",
      "1389, Algodata Infosystems, Berkeley\n",
      "1622, Five Lakes Publishing, Chicago\n",
      "1756, Ramona Publishers, Dallas\n",
      "9901, GGG&G, TcKBbmNoZW4=\n",
      "9952, Scootney Books, New York\n",
      "9999, Lucerne Publishing, Paris\n"
     ]
    }
   ],
   "source": [
    "print(text_tables)"
   ]
  },
  {
   "cell_type": "code",
   "execution_count": 52,
   "id": "c7e275ae-f20d-4134-b9b6-d8677dfb544c",
   "metadata": {
    "id": "c7e275ae-f20d-4134-b9b6-d8677dfb544c"
   },
   "outputs": [],
   "source": [
    "prompt_question_tables = \"\"\"\n",
    "Given the following tables and their content definitions,\n",
    "###Tables\n",
    "authors: Contains information about authors, such as name, address, and phone number.\n",
    "publishers: Contains information about publishers, such as name, city, and country.\n",
    "\n",
    "Tell me which tables would be necessary to query with SQL to address the user's question below.\n",
    "Return the table names in a json format.\n",
    "###User Questyion:\n",
    "Which authors live in California?\n",
    "\"\"\"\n"
   ]
  },
  {
   "cell_type": "code",
   "execution_count": 53,
   "id": "b1cb5957-2df2-4e5e-9e6a-ace955c9817e",
   "metadata": {
    "id": "b1cb5957-2df2-4e5e-9e6a-ace955c9817e"
   },
   "outputs": [],
   "source": [
    "#Creating the prompt, with the user questions and the tables definitions.\n",
    "pqt1 = prompt_question_tables.format(tables=text_tables, question=\"What phone number does Green have?\")#ENTER YOUR QUERY HERE)"
   ]
  },
  {
   "cell_type": "code",
   "execution_count": 54,
   "id": "10d30f2b-6c23-4fd6-8038-840fba784cce",
   "metadata": {
    "id": "10d30f2b-6c23-4fd6-8038-840fba784cce",
    "outputId": "9924022c-7b2b-4ec8-e2c2-75bc1c745151",
    "scrolled": true
   },
   "outputs": [
    {
     "name": "stdout",
     "output_type": "stream",
     "text": [
      "{\n",
      "    \"tables\": [\"authors\"]\n",
      "}\n"
     ]
    }
   ],
   "source": [
    "print(return_OAI(pqt1))"
   ]
  },
  {
   "cell_type": "code",
   "execution_count": 46,
   "id": "57e07083-be8f-4cd0-95bd-c4b909422c6b",
   "metadata": {
    "id": "57e07083-be8f-4cd0-95bd-c4b909422c6b"
   },
   "outputs": [],
   "source": [
    "pqt3 = prompt_question_tables.format(tables=text_tables,\n",
    "                                     question=\"whast the id of green?\")#ENTER YOUR QUERY HERE)"
   ]
  },
  {
   "cell_type": "code",
   "execution_count": 55,
   "id": "a0eeb79e-caf1-4f48-9897-168d95d2ae37",
   "metadata": {
    "id": "a0eeb79e-caf1-4f48-9897-168d95d2ae37",
    "outputId": "81d77115-9cad-4284-a228-5368bb9aa6fb"
   },
   "outputs": [
    {
     "name": "stdout",
     "output_type": "stream",
     "text": [
      "{\n",
      "    \"tables\": [\"authors\"]\n",
      "}\n"
     ]
    }
   ],
   "source": [
    "print(return_OAI(pqt3))"
   ]
  },
  {
   "cell_type": "markdown",
   "id": "321bb9a2-4937-4e9a-a31b-7049cb8f5aa3",
   "metadata": {
    "id": "321bb9a2-4937-4e9a-a31b-7049cb8f5aa3"
   },
   "source": [
    "# Exercise\n",
    " - Complete the prompts similar to what we did in class. \n",
    "     - Try a few versions if you have time\n",
    "     - Be creative\n",
    " - Write a one page report summarizing your findings.\n",
    "     - Were there variations that didn't work well? i.e., where GPT either hallucinated or wrong\n",
    " - What did you learn?"
   ]
  },
  {
   "cell_type": "markdown",
   "id": "38bdc1de",
   "metadata": {},
   "source": [
    "i learned that GPT-3.5-Turbo can effectively select relevant tables based on their names and brief descriptions, but it may struggle with complex queries or when the context is not clear enough. Variations in prompts can lead to different levels of success, with more detailed descriptions generally yielding better results."
   ]
  }
 ],
 "metadata": {
  "colab": {
   "include_colab_link": true,
   "provenance": []
  },
  "kernelspec": {
   "display_name": "base",
   "language": "python",
   "name": "python3"
  },
  "language_info": {
   "codemirror_mode": {
    "name": "ipython",
    "version": 3
   },
   "file_extension": ".py",
   "mimetype": "text/x-python",
   "name": "python",
   "nbconvert_exporter": "python",
   "pygments_lexer": "ipython3",
   "version": "3.12.2"
  }
 },
 "nbformat": 4,
 "nbformat_minor": 5
}
